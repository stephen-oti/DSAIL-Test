{
 "cells": [
  {
   "cell_type": "code",
   "execution_count": 1,
   "id": "6d6414d2-394c-4435-8484-7d09a50fff10",
   "metadata": {},
   "outputs": [],
   "source": [
    "# Importing necessary files\n",
    "import numpy as np"
   ]
  },
  {
   "cell_type": "code",
   "execution_count": 2,
   "id": "b806a12f-3b5a-4dc8-a00d-e81f1e3fc81d",
   "metadata": {},
   "outputs": [],
   "source": [
    "# Coefficient matrix A\n",
    "A = np.array([\n",
    "    [1, 2, 1],\n",
    "    [0, 1, 1],\n",
    "    [1, 0, 2]\n",
    "])"
   ]
  },
  {
   "cell_type": "code",
   "execution_count": 3,
   "id": "e10ac357-303b-4dcd-91bc-9fc73eceedc3",
   "metadata": {},
   "outputs": [],
   "source": [
    "# Right-hand side vector b\n",
    "b = np.array([8, 5, 7])"
   ]
  },
  {
   "cell_type": "code",
   "execution_count": 4,
   "id": "e4fcf21b-3804-44ec-82dd-506199131b92",
   "metadata": {},
   "outputs": [],
   "source": [
    "# Solve for x using numpy's linear algebra solver\n",
    "x = np.linalg.solve(A, b)"
   ]
  },
  {
   "cell_type": "code",
   "execution_count": 5,
   "id": "86e19698-2fab-4a21-9fb8-3d26a440c3a7",
   "metadata": {},
   "outputs": [
    {
     "name": "stdout",
     "output_type": "stream",
     "text": [
      "Solution (x1, x2, x3):\n",
      "[1. 2. 3.]\n"
     ]
    }
   ],
   "source": [
    "# Print the solution\n",
    "print(\"Solution (x1, x2, x3):\")\n",
    "print(x)"
   ]
  },
  {
   "cell_type": "code",
   "execution_count": null,
   "id": "eec87356-134d-4ffc-bf03-e38c7bdf4acc",
   "metadata": {},
   "outputs": [],
   "source": []
  }
 ],
 "metadata": {
  "kernelspec": {
   "display_name": "Python 3 (ipykernel)",
   "language": "python",
   "name": "python3"
  },
  "language_info": {
   "codemirror_mode": {
    "name": "ipython",
    "version": 3
   },
   "file_extension": ".py",
   "mimetype": "text/x-python",
   "name": "python",
   "nbconvert_exporter": "python",
   "pygments_lexer": "ipython3",
   "version": "3.12.3"
  }
 },
 "nbformat": 4,
 "nbformat_minor": 5
}
