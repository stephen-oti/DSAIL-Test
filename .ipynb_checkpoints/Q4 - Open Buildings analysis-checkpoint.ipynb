{
  "nbformat": 4,
  "nbformat_minor": 0,
  "metadata": {
    "colab": {
      "provenance": [],
      "gpuType": "T4"
    },
    "kernelspec": {
      "name": "python3",
      "display_name": "Python 3"
    },
    "language_info": {
      "name": "python"
    },
    "accelerator": "GPU"
  },
  "cells": [
    {
      "cell_type": "code",
      "execution_count": 2,
      "metadata": {
        "id": "L52IyKhBY_Cm"
      },
      "outputs": [],
      "source": [
        "import pandas as pd\n",
        "import geopandas as gpd\n",
        "from shapely.geometry import Point\n",
        "from geopy.distance import geodesic\n",
        "import requests"
      ]
    },
    {
      "cell_type": "code",
      "source": [
        "# Load the country-capital dataset\n",
        "# df_capitals = pd.read_csv('country-capital-lat-long-population.csv')\n",
        "capital_data = pd.read_csv('country-capital-lat-long-population.csv')"
      ],
      "metadata": {
        "id": "4Uymy7W-ZmHY"
      },
      "execution_count": 9,
      "outputs": []
    },
    {
      "cell_type": "code",
      "source": [
        "url = \"https://storage.googleapis.com/open-buildings-data/v3/polygons_s2_level_4_gzip/179_buildings.csv.gz\""
      ],
      "metadata": {
        "id": "klXVJZoCaRc3"
      },
      "execution_count": 4,
      "outputs": []
    },
    {
      "cell_type": "code",
      "source": [
        "# Load building datasets\n",
        "kenya_buildings = pd.read_csv(url).sample(n=100000, random_state=42)"
      ],
      "metadata": {
        "id": "81Da8OFwZzoD"
      },
      "execution_count": 5,
      "outputs": []
    },
    {
      "cell_type": "code",
      "source": [
        "kenya_buildings.info()"
      ],
      "metadata": {
        "colab": {
          "base_uri": "https://localhost:8080/"
        },
        "id": "4r16UjzTd86t",
        "outputId": "86b1c25e-65e0-4016-8460-ca43d87aadce"
      },
      "execution_count": 6,
      "outputs": [
        {
          "output_type": "stream",
          "name": "stdout",
          "text": [
            "<class 'pandas.core.frame.DataFrame'>\n",
            "Index: 100000 entries, 4458432 to 421217\n",
            "Data columns (total 6 columns):\n",
            " #   Column          Non-Null Count   Dtype  \n",
            "---  ------          --------------   -----  \n",
            " 0   latitude        100000 non-null  float64\n",
            " 1   longitude       100000 non-null  float64\n",
            " 2   area_in_meters  100000 non-null  float64\n",
            " 3   confidence      100000 non-null  float64\n",
            " 4   geometry        100000 non-null  object \n",
            " 5   full_plus_code  100000 non-null  object \n",
            "dtypes: float64(4), object(2)\n",
            "memory usage: 5.3+ MB\n"
          ]
        }
      ]
    },
    {
      "cell_type": "code",
      "source": [
        "tanzania_buildings = pd.read_csv(\"https://storage.googleapis.com/open-buildings-data/v3/polygons_s2_level_4_gzip/185_buildings.csv.gz\").sample(n=100000, random_state=42)"
      ],
      "metadata": {
        "id": "dxDb4Tmoby__"
      },
      "execution_count": 7,
      "outputs": []
    },
    {
      "cell_type": "code",
      "source": [
        "uganda_buildings = pd.read_csv(\"https://storage.googleapis.com/open-buildings-data/v3/polygons_s2_level_4_gzip/177_buildings.csv.gz\").sample(n=100000, random_state=42)"
      ],
      "metadata": {
        "id": "rTCScE6sdnwP"
      },
      "execution_count": 8,
      "outputs": []
    },
    {
      "cell_type": "code",
      "source": [
        "# Extract capital coordinates\n",
        "capital_coords = capital_data[capital_data['Country'].isin(['Kenya', 'Tanzania', 'Uganda'])][['Country', 'Capital City', 'Latitude', 'Longitude']]"
      ],
      "metadata": {
        "id": "h3uN4Pgue_yj"
      },
      "execution_count": 10,
      "outputs": []
    },
    {
      "cell_type": "code",
      "source": [
        "# Function to calculate distance\n",
        "def calculate_distance(row, capital_lat, capital_lon):\n",
        "    return geodesic((row['latitude'], row['longitude']), (capital_lat, capital_lon)).kilometers"
      ],
      "metadata": {
        "id": "Bhh81DwqfNwq"
      },
      "execution_count": 11,
      "outputs": []
    },
    {
      "cell_type": "code",
      "source": [
        "# Process each country's buildings\n",
        "results = []\n",
        "capital_coords['Country'] = capital_coords['Country'].str.strip().str.title()\n",
        "for country in ['Kenya', 'Tanzania', 'Uganda']:\n",
        "    capital = capital_coords[capital_coords['Country'] == country]\n",
        "\n",
        "    if capital.empty:\n",
        "        print(f\"Capital data for {country} not found!\")\n",
        "        continue  # Skip this iteration if no match found\n",
        "\n",
        "    capital_lat = capital['Latitude'].values[0]\n",
        "    capital_lon = capital['Longitude'].values[0]\n",
        "\n",
        "    if country == 'Kenya':\n",
        "        buildings = kenya_buildings\n",
        "    elif country == 'Tanzania':\n",
        "        buildings = tanzania_buildings\n",
        "    else:\n",
        "        buildings = uganda_buildings\n",
        "\n",
        "    # Calculate distance\n",
        "    buildings['distance_to_capital'] = buildings.apply(calculate_distance, axis=1, capital_lat=capital_lat, capital_lon=capital_lon)\n",
        "\n",
        "    # Filter buildings within 100 km\n",
        "    buildings_within_100km = buildings[buildings['distance_to_capital'] <= 100]\n",
        "\n",
        "    # Number of buildings\n",
        "    num_buildings = buildings_within_100km.shape[0]\n",
        "\n",
        "    # Average area\n",
        "    avg_area = buildings_within_100km['area_in_meters'].mean()\n",
        "\n",
        "    results.append({\n",
        "        'Country': country,\n",
        "        'Capital City': capital['Capital City'].values[0],\n",
        "        'Num Buildings within 100km': num_buildings,\n",
        "        'Avg Area within 100km': avg_area\n",
        "    })"
      ],
      "metadata": {
        "colab": {
          "base_uri": "https://localhost:8080/"
        },
        "id": "QCch7zYnfLP0",
        "outputId": "f53fdf71-311a-4907-fb85-01c3e703acc5"
      },
      "execution_count": 13,
      "outputs": [
        {
          "output_type": "stream",
          "name": "stdout",
          "text": [
            "Capital data for Tanzania not found!\n"
          ]
        }
      ]
    },
    {
      "cell_type": "code",
      "source": [
        "# Convert results to DataFrame\n",
        "results_df = pd.DataFrame(results)\n",
        "print(results_df)"
      ],
      "metadata": {
        "colab": {
          "base_uri": "https://localhost:8080/"
        },
        "id": "z3n6ts75fO_a",
        "outputId": "36934186-7829-4777-8bd2-84b0e6f05ddb"
      },
      "execution_count": 14,
      "outputs": [
        {
          "output_type": "stream",
          "name": "stdout",
          "text": [
            "  Country Capital City  Num Buildings within 100km  Avg Area within 100km\n",
            "0   Kenya      Nairobi                           0                    NaN\n",
            "1  Uganda      Kampala                       21958              64.181515\n"
          ]
        }
      ]
    }
  ]
}