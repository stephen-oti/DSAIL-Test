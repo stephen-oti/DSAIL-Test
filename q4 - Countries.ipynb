{
 "cells": [
  {
   "cell_type": "code",
   "execution_count": 1,
   "id": "f076e8ff-7af4-4304-bafb-ec66d386d4dc",
   "metadata": {},
   "outputs": [],
   "source": [
    "import pandas as pd"
   ]
  },
  {
   "cell_type": "code",
   "execution_count": 2,
   "id": "457a491f-d992-4024-8aa7-fe30ce650581",
   "metadata": {},
   "outputs": [],
   "source": [
    "# Reading a CSV file with custom quoting rules\n",
    "df = pd.read_csv(\"country-capital-lat-long-population.csv\", delimiter=\",\")"
   ]
  },
  {
   "cell_type": "code",
   "execution_count": 3,
   "id": "5d481abd-a1f7-4b00-ad37-da5b2ad4476b",
   "metadata": {},
   "outputs": [
    {
     "data": {
      "text/html": [
       "<div>\n",
       "<style scoped>\n",
       "    .dataframe tbody tr th:only-of-type {\n",
       "        vertical-align: middle;\n",
       "    }\n",
       "\n",
       "    .dataframe tbody tr th {\n",
       "        vertical-align: top;\n",
       "    }\n",
       "\n",
       "    .dataframe thead th {\n",
       "        text-align: right;\n",
       "    }\n",
       "</style>\n",
       "<table border=\"1\" class=\"dataframe\">\n",
       "  <thead>\n",
       "    <tr style=\"text-align: right;\">\n",
       "      <th></th>\n",
       "      <th>Country</th>\n",
       "      <th>Capital City</th>\n",
       "      <th>Latitude</th>\n",
       "      <th>Longitude</th>\n",
       "      <th>Population</th>\n",
       "      <th>Capital Type</th>\n",
       "    </tr>\n",
       "  </thead>\n",
       "  <tbody>\n",
       "    <tr>\n",
       "      <th>0</th>\n",
       "      <td>Afghanistan</td>\n",
       "      <td>Kabul</td>\n",
       "      <td>34.5289</td>\n",
       "      <td>69.1725</td>\n",
       "      <td>4011770</td>\n",
       "      <td>Capital</td>\n",
       "    </tr>\n",
       "    <tr>\n",
       "      <th>1</th>\n",
       "      <td>Albania</td>\n",
       "      <td>Tiranë (Tirana)</td>\n",
       "      <td>41.3275</td>\n",
       "      <td>19.8189</td>\n",
       "      <td>475577</td>\n",
       "      <td>Capital</td>\n",
       "    </tr>\n",
       "    <tr>\n",
       "      <th>2</th>\n",
       "      <td>Algeria</td>\n",
       "      <td>El Djazaïr  (Algiers)</td>\n",
       "      <td>36.7525</td>\n",
       "      <td>3.0420</td>\n",
       "      <td>2693542</td>\n",
       "      <td>Capital</td>\n",
       "    </tr>\n",
       "    <tr>\n",
       "      <th>3</th>\n",
       "      <td>American Samoa</td>\n",
       "      <td>Pago Pago</td>\n",
       "      <td>-14.2781</td>\n",
       "      <td>-170.7025</td>\n",
       "      <td>48526</td>\n",
       "      <td>Capital</td>\n",
       "    </tr>\n",
       "    <tr>\n",
       "      <th>4</th>\n",
       "      <td>Andorra</td>\n",
       "      <td>Andorra la Vella</td>\n",
       "      <td>42.5078</td>\n",
       "      <td>1.5211</td>\n",
       "      <td>22614</td>\n",
       "      <td>Capital</td>\n",
       "    </tr>\n",
       "  </tbody>\n",
       "</table>\n",
       "</div>"
      ],
      "text/plain": [
       "          Country           Capital City  Latitude  Longitude  Population  \\\n",
       "0     Afghanistan                  Kabul   34.5289    69.1725     4011770   \n",
       "1         Albania        Tiranë (Tirana)   41.3275    19.8189      475577   \n",
       "2         Algeria  El Djazaïr  (Algiers)   36.7525     3.0420     2693542   \n",
       "3  American Samoa              Pago Pago  -14.2781  -170.7025       48526   \n",
       "4         Andorra       Andorra la Vella   42.5078     1.5211       22614   \n",
       "\n",
       "  Capital Type  \n",
       "0      Capital  \n",
       "1      Capital  \n",
       "2      Capital  \n",
       "3      Capital  \n",
       "4      Capital  "
      ]
     },
     "execution_count": 3,
     "metadata": {},
     "output_type": "execute_result"
    }
   ],
   "source": [
    "df.head()"
   ]
  },
  {
   "cell_type": "code",
   "execution_count": 4,
   "id": "0099f86b-57b5-495f-8a06-62024df68bc8",
   "metadata": {},
   "outputs": [
    {
     "name": "stdout",
     "output_type": "stream",
     "text": [
      "<class 'pandas.core.frame.DataFrame'>\n",
      "RangeIndex: 234 entries, 0 to 233\n",
      "Data columns (total 6 columns):\n",
      " #   Column        Non-Null Count  Dtype  \n",
      "---  ------        --------------  -----  \n",
      " 0   Country       234 non-null    object \n",
      " 1   Capital City  234 non-null    object \n",
      " 2   Latitude      234 non-null    float64\n",
      " 3   Longitude     234 non-null    float64\n",
      " 4   Population    234 non-null    int64  \n",
      " 5   Capital Type  234 non-null    object \n",
      "dtypes: float64(2), int64(1), object(3)\n",
      "memory usage: 11.1+ KB\n"
     ]
    }
   ],
   "source": [
    "df.info()"
   ]
  },
  {
   "cell_type": "code",
   "execution_count": 6,
   "id": "95a1dd1f-748f-40ab-9d42-5868e281ce34",
   "metadata": {},
   "outputs": [
    {
     "data": {
      "text/plain": [
       "(234, 6)"
      ]
     },
     "execution_count": 6,
     "metadata": {},
     "output_type": "execute_result"
    }
   ],
   "source": [
    "df.shape"
   ]
  },
  {
   "cell_type": "code",
   "execution_count": null,
   "id": "3fcafbe1-8037-4e2c-bdd7-192a6f8e4f02",
   "metadata": {},
   "outputs": [],
   "source": []
  }
 ],
 "metadata": {
  "kernelspec": {
   "display_name": "Python 3 (ipykernel)",
   "language": "python",
   "name": "python3"
  },
  "language_info": {
   "codemirror_mode": {
    "name": "ipython",
    "version": 3
   },
   "file_extension": ".py",
   "mimetype": "text/x-python",
   "name": "python",
   "nbconvert_exporter": "python",
   "pygments_lexer": "ipython3",
   "version": "3.12.3"
  }
 },
 "nbformat": 4,
 "nbformat_minor": 5
}
