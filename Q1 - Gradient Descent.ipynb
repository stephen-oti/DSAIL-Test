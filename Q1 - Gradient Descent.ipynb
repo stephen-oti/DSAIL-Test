{
 "cells": [
  {
   "cell_type": "code",
   "execution_count": 1,
   "id": "d78a2697-99eb-4d84-8fac-5df4afa47840",
   "metadata": {},
   "outputs": [],
   "source": [
    "import numpy as np"
   ]
  },
  {
   "cell_type": "code",
   "execution_count": 2,
   "id": "d4bd7805-3336-4296-beb1-4d12c54cf4e1",
   "metadata": {},
   "outputs": [],
   "source": [
    "def f(x):\n",
    "    \"\"\"The function f(x) = sin(x) + sin(10/3 * x).\"\"\"\n",
    "    return np.sin(x) + np.sin((10 / 3) * x)"
   ]
  },
  {
   "cell_type": "code",
   "execution_count": 3,
   "id": "81f32055-f780-492c-b011-9004d1429ab3",
   "metadata": {},
   "outputs": [],
   "source": [
    "def df_dx(x):\n",
    "    \"\"\"The derivative of f(x) with respect to x.\"\"\"\n",
    "    return np.cos(x) + (10 / 3) * np.cos((10 / 3) * x)"
   ]
  },
  {
   "cell_type": "code",
   "execution_count": 4,
   "id": "db2c209a-1cca-48a4-a39e-da0f7979ccc7",
   "metadata": {},
   "outputs": [],
   "source": [
    "def gradient_descent(start_x, learning_rate, max_iters, tolerance):\n",
    "    \"\"\"Performs gradient descent to find a local minimum.\n",
    "    \n",
    "    Parameters:\n",
    "        start_x (float): Starting point for gradient descent.\n",
    "        learning_rate (float): Step size (\\u03b7).\n",
    "        max_iters (int): Maximum number of iterations.\n",
    "        tolerance (float): Stopping criterion for small gradient magnitude.\n",
    "\n",
    "    Returns:\n",
    "        x_min (float): The x-value of the local minimum.\n",
    "        f_min (float): The value of f(x) at the local minimum.\n",
    "    \"\"\"\n",
    "    x = start_x\n",
    "    for _ in range(max_iters):\n",
    "        grad = df_dx(x)\n",
    "        if abs(grad) < tolerance:  # Stop if the gradient is very small\n",
    "            break\n",
    "        x = x - learning_rate * grad\n",
    "    return x, f(x)"
   ]
  },
  {
   "cell_type": "code",
   "execution_count": 5,
   "id": "e58eb66c-1080-41fc-bf6a-85d56c3110df",
   "metadata": {},
   "outputs": [],
   "source": [
    "def multiple_restarts(interval, num_restarts, learning_rate, max_iters, tolerance):\n",
    "    \"\"\"Performs gradient descent with multiple restarts to find the global minimum.\n",
    "    \n",
    "    Parameters:\n",
    "        interval (tuple): The interval (start, end) for the initial x values.\n",
    "        num_restarts (int): Number of random restarts.\n",
    "        learning_rate (float): Step size (\\u03b7).\n",
    "        max_iters (int): Maximum number of iterations per restart.\n",
    "        tolerance (float): Stopping criterion for small gradient magnitude.\n",
    "\n",
    "    Returns:\n",
    "        global_min_x (float): The x-value of the global minimum.\n",
    "        global_min_f (float): The value of f(x) at the global minimum.\n",
    "    \"\"\"\n",
    "    np.random.seed(42)  # For reproducibility\n",
    "    global_min_x = None\n",
    "    global_min_f = float('inf')\n",
    "\n",
    "    for _ in range(num_restarts):\n",
    "        start_x = np.random.uniform(interval[0], interval[1])\n",
    "        x_min, f_min = gradient_descent(start_x, learning_rate, max_iters, tolerance)\n",
    "\n",
    "        if f_min < global_min_f:\n",
    "            global_min_x = x_min\n",
    "            global_min_f = f_min\n",
    "\n",
    "    return global_min_x, global_min_f"
   ]
  },
  {
   "cell_type": "code",
   "execution_count": 6,
   "id": "2cb9ac6a-8f4c-4a89-a7cd-63536be99f10",
   "metadata": {},
   "outputs": [
    {
     "name": "stdout",
     "output_type": "stream",
     "text": [
      "Global minimum is at x = 5.145735308603261, f(x) = -1.8995993491521115\n"
     ]
    }
   ],
   "source": [
    "# Parameters\n",
    "interval = (2.7, 7.5)\n",
    "num_restarts = 10\n",
    "learning_rate = 0.1\n",
    "max_iters = 1000\n",
    "tolerance = 1e-6\n",
    "\n",
    "# Find the global minimum\n",
    "global_min_x, global_min_f = multiple_restarts(interval, num_restarts, learning_rate, max_iters, tolerance)\n",
    "\n",
    "print(f\"Global minimum is at x = {global_min_x}, f(x) = {global_min_f}\")"
   ]
  },
  {
   "cell_type": "code",
   "execution_count": null,
   "id": "efb328b7-1ada-4fc0-8baa-2eea466146d0",
   "metadata": {},
   "outputs": [],
   "source": []
  },
  {
   "cell_type": "code",
   "execution_count": null,
   "id": "e93b67e1-fe3c-4511-9727-290b72152299",
   "metadata": {},
   "outputs": [],
   "source": []
  }
 ],
 "metadata": {
  "kernelspec": {
   "display_name": "Python 3 (ipykernel)",
   "language": "python",
   "name": "python3"
  },
  "language_info": {
   "codemirror_mode": {
    "name": "ipython",
    "version": 3
   },
   "file_extension": ".py",
   "mimetype": "text/x-python",
   "name": "python",
   "nbconvert_exporter": "python",
   "pygments_lexer": "ipython3",
   "version": "3.12.3"
  }
 },
 "nbformat": 4,
 "nbformat_minor": 5
}
